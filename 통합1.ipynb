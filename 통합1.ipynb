{
 "cells": [
  {
   "cell_type": "code",
   "execution_count": null,
   "id": "d3dc02a6-8bd8-49d3-ac9d-6314609d0d0f",
   "metadata": {},
   "outputs": [],
   "source": [
    "import pandas as pd\n",
    "from konlpy.tag import Okt\n",
    "from collections import Counter\n",
    "import matplotlib\n",
    "import matplotlib.pyplot as plt\n",
    "from matplotlib import font_manager, rc\n",
    "import wordcloud\n",
    "import re\n",
    "import seaborn as sns\n",
    "\n",
    "font_path = \"data/THEdog.ttf\"\n",
    "font_name = font_manager.FontProperties(fname=font_path).get_name()\n",
    "rc('font', family=font_name)\n",
    "\n",
    "df=pd.read_csv('./output/project/퍼센트/통합장르_퍼센트.csv')\n",
    "df1=pd.read_csv('./output/project/퍼센트/통합세부장르_퍼센트.csv')"
   ]
  },
  {
   "cell_type": "code",
   "execution_count": null,
   "id": "8257d94e-aea9-4880-a7d7-a296118a95d0",
   "metadata": {},
   "outputs": [],
   "source": [
    "df"
   ]
  },
  {
   "cell_type": "code",
   "execution_count": null,
   "id": "e48f5330-285d-4f2e-9fa2-401133e6555a",
   "metadata": {},
   "outputs": [],
   "source": [
    "df1"
   ]
  },
  {
   "cell_type": "code",
   "execution_count": null,
   "id": "42fbd848-ac2d-4dde-8f8c-a4bbf83dd586",
   "metadata": {},
   "outputs": [],
   "source": [
    "df=df.rename(columns={'index':'cnt'})\n",
    "df"
   ]
  },
  {
   "cell_type": "code",
   "execution_count": null,
   "id": "d0d69cbe-eb47-47c4-90be-9b1279e3d2ac",
   "metadata": {},
   "outputs": [],
   "source": [
    "df.set_index(keys='cnt',inplace=True)\n"
   ]
  },
  {
   "cell_type": "code",
   "execution_count": null,
   "id": "cb779a37-e759-410a-adcb-a3628f51728e",
   "metadata": {},
   "outputs": [],
   "source": [
    "df"
   ]
  },
  {
   "cell_type": "code",
   "execution_count": null,
   "id": "17d90276-2c22-44b7-a6ab-d6d5193ccded",
   "metadata": {},
   "outputs": [],
   "source": [
    "plt.figure(figsize=(15,10))\n",
    "print(plt.gcf())\n",
    "s = df\n",
    "\n",
    "plt.title(\"통합 장르\",size=20)\n",
    "plt.xlabel('퍼센티지',size=15)\n",
    "plt.ylabel('장르',size=15)\n",
    "\n",
    "ax = plt.gca() #Axes(Axis)\n",
    "print(ax)\n",
    "ax.tick_params(axis='x', colors='red')\n",
    "ax.tick_params(axis='y', colors='red')\n",
    "\n",
    "mycolors = sns.color_palette('Set3',len(s.index))\n",
    "plt.barh(s.index,s.percent, color=mycolors)\n",
    "plt.show()\n",
    "#plt.savefig('./output/project/tv쇼.png')"
   ]
  },
  {
   "cell_type": "code",
   "execution_count": null,
   "id": "9936ba49-441a-49be-906e-c1898b0b20df",
   "metadata": {},
   "outputs": [],
   "source": [
    "df1.set_index(keys='index',inplace=True)"
   ]
  },
  {
   "cell_type": "code",
   "execution_count": null,
   "id": "5bbfaa4b-9d66-4608-98e1-6bd8fbd3d985",
   "metadata": {},
   "outputs": [],
   "source": [
    "df1"
   ]
  },
  {
   "cell_type": "code",
   "execution_count": null,
   "id": "82983ad3-d9ec-4fb3-a030-8669fe42bbb4",
   "metadata": {},
   "outputs": [],
   "source": []
  },
  {
   "cell_type": "code",
   "execution_count": null,
   "id": "e17ad207-c1a5-490f-9b2b-465ec4a19281",
   "metadata": {},
   "outputs": [],
   "source": [
    "plt.figure(figsize=(15,10))\n",
    "print(plt.gcf())\n",
    "s = df1\n",
    "\n",
    "plt.title(\"통합 장르\",size=20)\n",
    "plt.xlabel('퍼센티지',size=15)\n",
    "plt.ylabel('장르',size=15)\n",
    "\n",
    "ax = plt.gca() #Axes(Axis)\n",
    "print(ax)\n",
    "ax.tick_params(axis='x', colors='red')\n",
    "ax.tick_params(axis='y', colors='red')\n",
    "\n",
    "mycolors = sns.color_palette('Set3',len(s.index))\n",
    "plt.barh(s.index,s.percent, color=mycolors)\n",
    "plt.show()\n",
    "#plt.savefig('./output/project/tv쇼.png')"
   ]
  },
  {
   "cell_type": "code",
   "execution_count": null,
   "id": "04347e72-b55c-4ab7-ad57-27b80f2337b1",
   "metadata": {},
   "outputs": [],
   "source": []
  },
  {
   "cell_type": "code",
   "execution_count": null,
   "id": "0d572484-b3ee-4e63-aaaf-42f70e48e8d4",
   "metadata": {},
   "outputs": [],
   "source": []
  }
 ],
 "metadata": {
  "kernelspec": {
   "display_name": "pydatavenv",
   "language": "python",
   "name": "pydatavenv"
  },
  "language_info": {
   "codemirror_mode": {
    "name": "ipython",
    "version": 3
   },
   "file_extension": ".py",
   "mimetype": "text/x-python",
   "name": "python",
   "nbconvert_exporter": "python",
   "pygments_lexer": "ipython3",
   "version": "3.8.11"
  }
 },
 "nbformat": 4,
 "nbformat_minor": 5
}
